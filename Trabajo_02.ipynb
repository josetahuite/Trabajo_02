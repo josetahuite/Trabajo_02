{
 "cells": [
  {
   "attachments": {},
   "cell_type": "markdown",
   "metadata": {},
   "source": [
    "1. Haga un programa en Python que reciba de par´ametro un nu´mero de segundos y que despliegue en pantalla, las horas, minutos y segundos que representan. Por ejemplo:\n",
    "    *   Si el número de segundos recibidos fuera: 2743 entonces su programa debería desplegar:Horas: 0, Minutos: 45 , Segundos: 43\n",
    "    *   Si el nu´mero de segundos recibidos fuera 5871: Horas: 1, Minutos: 37 , Segundos: 51"
   ]
  },
  {
   "cell_type": "code",
   "execution_count": 35,
   "metadata": {},
   "outputs": [
    {
     "name": "stdout",
     "output_type": "stream",
     "text": [
      "ingrese un valor en segundos\n",
      "\n",
      " el valor  en segundos 589614 \n",
      " equivale a 163 horas, 46 minutos y 53 segundos\n"
     ]
    }
   ],
   "source": [
    "print(\"ingrese un valor en segundos\")\n",
    "try:\n",
    "    valor = int(input())\n",
    "    horas = int(valor/3600)\n",
    "    minutos = int(((valor/3600)-int(valor/3600))*60)\n",
    "    segundos = int(((((valor/3600)-int(valor/3600))*60) - int(((valor/3600)-int(valor/3600))*60))*60)\n",
    "    print(f\"\\n el valor  en segundos {valor} \\n equivale a {horas} horas, {minutos} minutos y {segundos} segundos\" )\n",
    "except ValueError:\n",
    "    print(\"No se permite el valor ingresado, debe ser un número entero\")\n",
    "\n"
   ]
  },
  {
   "cell_type": "markdown",
   "metadata": {},
   "source": []
  }
 ],
 "metadata": {
  "kernelspec": {
   "display_name": "base",
   "language": "python",
   "name": "python3"
  },
  "language_info": {
   "codemirror_mode": {
    "name": "ipython",
    "version": 3
   },
   "file_extension": ".py",
   "mimetype": "text/x-python",
   "name": "python",
   "nbconvert_exporter": "python",
   "pygments_lexer": "ipython3",
   "version": "3.9.13"
  },
  "orig_nbformat": 4
 },
 "nbformat": 4,
 "nbformat_minor": 2
}
