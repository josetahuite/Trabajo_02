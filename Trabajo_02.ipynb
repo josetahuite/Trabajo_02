{
 "cells": [
  {
   "attachments": {},
   "cell_type": "markdown",
   "metadata": {},
   "source": [
    "1. Haga un programa en Python que reciba de par´ametro un nu´mero de segundos y que despliegue en pantalla, las horas, minutos y segundos que representan. Por ejemplo:\n",
    "    *   Si el número de segundos recibidos fuera: 2743 entonces su programa debería desplegar:Horas: 0, Minutos: 45 , Segundos: 43\n",
    "    *   Si el nu´mero de segundos recibidos fuera 5871: Horas: 1, Minutos: 37 , Segundos: 51"
   ]
  },
  {
   "cell_type": "code",
   "execution_count": 49,
   "metadata": {},
   "outputs": [
    {
     "name": "stdout",
     "output_type": "stream",
     "text": [
      "ingrese un valor en segundos\n",
      "\n",
      " el valor  en segundos 60 \n",
      " equivale a 0 horas, 1 minutos y 0 segundos\n"
     ]
    }
   ],
   "source": [
    "print(\"ingrese un valor en segundos\")\n",
    "try:\n",
    "    valor = int(input())\n",
    "    horas = int(valor/3600)\n",
    "    minutos = int(((valor/3600)-int(valor/3600))*60)\n",
    "    segundos = int(((((valor/3600)-int(valor/3600))*60) - int(((valor/3600)-int(valor/3600))*60))*60)\n",
    "    print(f\"\\n el valor  en segundos {valor} \\n equivale a {horas} horas, {minutos} minutos y {segundos} segundos\" )\n",
    "except ValueError:\n",
    "    print(\"No se permite el valor ingresado, debe ser un número entero\")\n",
    "\n"
   ]
  },
  {
   "attachments": {},
   "cell_type": "markdown",
   "metadata": {},
   "source": [
    "2.  Haga una función en Python que dado un número entre 1 y 20. Y un carácter cualquiera despliegue cuatro patrones triangulares.\n",
    "Por ejemplo si el usuario ingresara el nu´mero 4 y el s´ımbolo * el programa deber´a desplegar lo siguiente:\n",
    "\n",
    "\n",
    "<img src=Imagen_01.jpg>"
   ]
  },
  {
   "cell_type": "code",
   "execution_count": 52,
   "metadata": {},
   "outputs": [
    {
     "name": "stdout",
     "output_type": "stream",
     "text": [
      "ingrese un número entre 1 y 20\n",
      "ingrese un caracter\n",
      "*                         ********************      *                         ********************\n",
      "**                        *******************       **                        *******************\n",
      "***                       ******************        ***                       ******************\n",
      "****                      *****************         ****                      *****************\n",
      "*****                     ****************          *****                     ****************\n",
      "******                    ***************           ******                    ***************\n",
      "*******                   **************            *******                   **************\n",
      "********                  *************             ********                  *************\n",
      "*********                 ************              *********                 ************\n",
      "**********                ***********               **********                ***********\n",
      "***********               **********                ***********               **********\n",
      "************              *********                 ************              *********\n",
      "*************             ********                  *************             ********\n",
      "**************            *******                   **************            *******\n",
      "***************           ******                    ***************           ******\n",
      "****************          *****                     ****************          *****\n",
      "*****************         ****                      *****************         ****\n",
      "******************        ***                       ******************        ***\n",
      "*******************       **                        *******************       **\n",
      "********************      *                         ********************      *\n"
     ]
    }
   ],
   "source": [
    "print(\"ingrese un número entre 1 y 20\")\n",
    "n=int(input())\n",
    "print(\"ingrese un caracter\")\n",
    "s=input()\n",
    "e=' ' \n",
    "for i in range(n):\n",
    "    print(f\"{s*(i+1)}{e*(25-i)}{s*(n-i)}{e*(6+i)}{s*(i+1)}{e*(25-i)}{s*(n-i)}\")\n",
    "\n"
   ]
  },
  {
   "attachments": {},
   "cell_type": "markdown",
   "metadata": {},
   "source": [
    "3.  Haga un programa en Python que la fecha de nacimiento de una persona (puede ingresar por separado cada valor, es decir pedir primero día, luego mes y luego año), despliegue la edad de la persona en años, meses y días. Su resultado puede ser aproximado."
   ]
  },
  {
   "cell_type": "code",
   "execution_count": null,
   "metadata": {},
   "outputs": [],
   "source": [
    "import datetime\n",
    "from datetime import timedelta \n",
    "from datetime import date\n",
    "from dateutil.relativedelta import relativedelta"
   ]
  },
  {
   "cell_type": "code",
   "execution_count": 13,
   "metadata": {},
   "outputs": [
    {
     "name": "stdout",
     "output_type": "stream",
     "text": [
      "ingrese su anio de nacimiento\n",
      "ingrese su mes de nacimiento\n",
      "ingrese su dia de nacimiento\n",
      "la edad de la persona es 37 anios, 8 meses y 5 dias\n"
     ]
    }
   ],
   "source": [
    "print(\"ingrese su anio de nacimiento\")\n",
    "anio = int(input())\n",
    "print(\"ingrese su mes de nacimiento\")\n",
    "mes = int(input())\n",
    "print(\"ingrese su dia de nacimiento\")\n",
    "dia = int(input())\n",
    "\n",
    "fecha=datetime.date(anio,mes,dia)\n",
    "\n",
    "anios_c=relativedelta(date.today(),(fecha)).years\n",
    "meses_c=relativedelta(date.today(),(fecha)).months\n",
    "dias_c=relativedelta(date.today(),(fecha)).days\n",
    "\n",
    "print(f\"la edad de la persona es {anios_c} anios, {meses_c} meses y {dias_c} dias\")\n"
   ]
  },
  {
   "attachments": {},
   "cell_type": "markdown",
   "metadata": {},
   "source": [
    "4. Escriba una funci´on en Python que dada una tupla de elementos (nu´meros o letras) esta se convierta a un string. Tomar nota del siguiente ejemplo\n",
    "    *   Si la entrada fuera: (10, 20, 40, 5, 70)\n",
    "    *   La salida deber´ıa ser: 102040570   "
   ]
  },
  {
   "cell_type": "code",
   "execution_count": 24,
   "metadata": {},
   "outputs": [
    {
     "name": "stdout",
     "output_type": "stream",
     "text": [
      "102040570\n"
     ]
    }
   ],
   "source": [
    "Tup = (10,20,40,5,70)\n",
    "\n",
    "cat=''\n",
    "for i in Tup:\n",
    "    i= str(i) \n",
    "    cat= cat + i\n",
    "   \n",
    "\n",
    "print(cat)\n",
    "\n",
    "\n"
   ]
  },
  {
   "attachments": {},
   "cell_type": "markdown",
   "metadata": {},
   "source": [
    "5. Cree un programa en Python que dada una lista de tuplas, elimine las tuplas que est´an vac´ıas.Tomar nota del siguiente ejemplo:\n",
    "    *   Si la lista fuera: [(), (), (’X’,), (’a’, ’b’), (’a’, ’b’, ’c’), (’d’)]\n",
    "    *   El resultado deber´ıa ser: [(’X’), (’a’, ’b’), (’a’, ’b’, ’c’), ’d’]"
   ]
  },
  {
   "cell_type": "code",
   "execution_count": 29,
   "metadata": {},
   "outputs": [
    {
     "name": "stdout",
     "output_type": "stream",
     "text": [
      "[(), (), 'X', ('a', 'b'), ('a', 'b', 'c'), 'd', ()]\n",
      "['X', ('a', 'b'), ('a', 'b', 'c'), 'd']\n"
     ]
    }
   ],
   "source": [
    "lta = [(), (), ('X'), ('a', 'b'), ('a', 'b', 'c'), ('d')]\n",
    "\n",
    "lta2=[]\n",
    "for i in lta:\n",
    "    if i != ():\n",
    "        lta2.append(i)\n",
    "        \n",
    "\n",
    "print(lta)\n",
    "print(lta2)"
   ]
  },
  {
   "attachments": {},
   "cell_type": "markdown",
   "metadata": {},
   "source": [
    "6.  Cree una funci´on en Python que dada una tupla de tuplas con nu´meros, produzca una tupla con el promedio de cada tupla individual. Tomar nota del siguiente ejemplo:\n",
    "    *   Si la tupla de entrada fuera: ((10, 10, 10, 12), (30, 45, 56, 45), (81, 80, 39, 32))\n",
    "    *   El resultado deber´ıa ser: (10.5, 44, 58)"
   ]
  },
  {
   "cell_type": "code",
   "execution_count": 1,
   "metadata": {},
   "outputs": [
    {
     "name": "stdout",
     "output_type": "stream",
     "text": [
      "[10.5, 44.0, 58.0]\n"
     ]
    }
   ],
   "source": [
    "tupla_02=((10, 10, 10, 12), (30, 45, 56, 45), (81, 80, 39, 32))\n",
    "\n",
    "\n",
    "sum=0\n",
    "largot2=[]\n",
    "sumat2=[]\n",
    "prom=[]\n",
    "\n",
    "for i in tupla_02:\n",
    "    largo=len(i)\n",
    "    largot2.append(largo)\n",
    "    sum=0\n",
    "    for j in i:\n",
    "        sum= sum+j\n",
    "    sumat2.append(sum)   \n",
    "    \n",
    "for l in range(len(largot2)):\n",
    "    prom.append(sumat2[l]/largot2[l])\n",
    "\n",
    "print(prom)\n",
    "\n",
    "    \n"
   ]
  },
  {
   "attachments": {},
   "cell_type": "markdown",
   "metadata": {},
   "source": [
    "7. Escribir un programa que gestione las facturas pendientes de cobro de una empresa. Las facturas se almacenar´an en un diccionario donde la llave de cada factura ser´a el nu´mero de\n",
    "factura (debe utilizar un numero de 4 d´ıgitos) y el valor el coste de la factura. El programa debe preguntar al usuario si quiere an˜adir una nueva factura, pagar una existente o terminar. Si desea an˜adir una nueva factura se preguntar´a por el nu´mero de factura y su coste y se an˜adir´a al diccionario, para confirmar que la factura se ingreso correctamente el programa debe desplegar el diccionario completo. Si se desea pagar una factura se preguntar´a por el nu´mero de factura y se eliminar´a del diccionario. Despu´es de cada operaci´on el programa debe mostrar en pantalla la cantidad cobrada hasta el momento y la cantidad pendiente de cobro. Puede utilizar otras estructuras de datos como apoyo si lo considera necesario."
   ]
  },
  {
   "cell_type": "code",
   "execution_count": 19,
   "metadata": {},
   "outputs": [
    {
     "name": "stdout",
     "output_type": "stream",
     "text": [
      "ingrese la actividad que desea realizar (agregar=1, pagar=2, terminar=3)\n",
      "ingrese el numero de factura\n",
      "ingrese el valor de la factura 1\n",
      "{1: 10}\n",
      "ingrese la actividad que desea realizar (agregar=1, pagar=2, terminar=3)\n",
      "ingrese el numero de factura\n",
      "ingrese el valor de la factura 2\n",
      "{1: 10, 2: 20}\n",
      "ingrese la actividad que desea realizar (agregar=1, pagar=2, terminar=3)\n",
      "ingrese el numero de factura\n",
      "ingrese el valor de la factura 3\n",
      "{1: 10, 2: 20, 3: 30}\n",
      "ingrese la actividad que desea realizar (agregar=1, pagar=2, terminar=3)\n",
      "ingrese el numero de factura\n",
      "ingrese el valor de la factura 4\n",
      "{1: 10, 2: 20, 3: 30, 4: 40}\n",
      "ingrese la actividad que desea realizar (agregar=1, pagar=2, terminar=3)\n",
      "ingrese el numero de factura a pagar\n",
      "la cantidad pagada es 30 y la cantidad pendiente de cobro es 70\n",
      "ingrese la actividad que desea realizar (agregar=1, pagar=2, terminar=3)\n",
      "{1: 10, 2: 20, 4: 40}\n"
     ]
    }
   ],
   "source": [
    "d_facturas={}\n",
    "act=99\n",
    "sfac=0\n",
    "spag=0\n",
    "pcob=0\n",
    "while act != 3:\n",
    "\n",
    "    print(\"ingrese la actividad que desea realizar (agregar=1, pagar=2, terminar=3)\")\n",
    "    act=int(input())\n",
    "\n",
    "    if act==1:\n",
    "        print(\"ingrese el numero de factura\")\n",
    "        fac=int(input())\n",
    "        print(f\"ingrese el valor de la factura {fac}\")\n",
    "        val=int(input())\n",
    "        d_facturas[fac]=val\n",
    "        print(d_facturas)\n",
    "        sfac=sfac+val\n",
    "        ##print(f\"la cantidad facturada es {sfac}\")\n",
    "        spag=spag\n",
    "    elif act==2:\n",
    "        print(\"ingrese el numero de factura a pagar\")\n",
    "        facp=int(input())\n",
    "        spag=spag+d_facturas[facp]\n",
    "        del d_facturas[facp]\n",
    "        pcob=sfac-spag\n",
    "        \n",
    "        print(f\"la cantidad pagada es {spag} y la cantidad pendiente de cobro es {pcob}\")\n",
    "    elif act==3:\n",
    "        break\n",
    "    \n",
    "\n",
    "\n",
    "print(d_facturas)\n",
    "\n",
    "\n"
   ]
  },
  {
   "attachments": {},
   "cell_type": "markdown",
   "metadata": {},
   "source": [
    "8. Haga una funci´on en Python, que cree un set con todas las cartas de una baraja de Pocker utilizando el siguiente formato: Tipo-Numero. Utilice las letras T para tr´eboles, C para\n",
    "corazones, P para picas y E para espadas. Para los nu´meros utilice la numeraci´on del 1 al 13 Por ejemplo E13 - ser´ıa Rey de Espadas, P01 ser´ıa As de Picas, T05 ser´ıa cinco de Tr´eboles.\n",
    "Posteriormente cree una funci´on que dado el conjunto anterior cree dos sets nuevos de cartas,cada conjunto debe tener una cantidad variable de elementos, puede utilizar nu´meros aleatori\n",
    "os enteros para definir la longitud de los conjuntos.\n",
    "Adicionalmente, deber´a calcular la probabilidad de la intersecci´on de ambos conjuntos y demuestre si son eventos independientes con la regla del producto.\n",
    "Para concluir, calcule probabilidad de la uni´on de ambos conjuntos y demuestre que se cumple la regla de la adici´on"
   ]
  },
  {
   "cell_type": "code",
   "execution_count": null,
   "metadata": {},
   "outputs": [],
   "source": []
  }
 ],
 "metadata": {
  "kernelspec": {
   "display_name": "base",
   "language": "python",
   "name": "python3"
  },
  "language_info": {
   "codemirror_mode": {
    "name": "ipython",
    "version": 3
   },
   "file_extension": ".py",
   "mimetype": "text/x-python",
   "name": "python",
   "nbconvert_exporter": "python",
   "pygments_lexer": "ipython3",
   "version": "3.9.13"
  },
  "orig_nbformat": 4
 },
 "nbformat": 4,
 "nbformat_minor": 2
}
